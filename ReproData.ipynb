{
 "cells": [
  {
   "cell_type": "code",
   "execution_count": 1,
   "id": "3e76af1b",
   "metadata": {},
   "outputs": [],
   "source": [
    "import pandas\n",
    "from sklearn.model_selection import train_test_split\n",
    "from sklearn.preprocessing import OneHotEncoder"
   ]
  },
  {
   "cell_type": "code",
   "execution_count": 2,
   "id": "ce9674d5",
   "metadata": {},
   "outputs": [],
   "source": [
    "FEATURES_LIST_FILE = \"data/features\"\n",
    "RAW_DATA_CSV = \"data/repro.csv\"\n",
    "BUILD_TAG = \"BUILD?\"\n",
    "REPRODUCTIBLE_TAG = \"REPRO?\"\n",
    "\n",
    "lines = None\n",
    "with open(FEATURES_LIST_FILE, 'r') as stream:\n",
    "    lines = map(lambda x: x.strip(), stream.readlines())\n",
    "\n",
    "repro = pandas.read_csv(RAW_DATA_CSV)\n",
    "repro_len = len(repro)\n",
    "table = dict()\n",
    "\n",
    "for elt in lines:\n",
    "    table[elt] = [0 for _ in range(repro_len)]\n",
    "\n",
    "table[BUILD_TAG] = list(repro[\"build?\"])\n",
    "table[REPRODUCTIBLE_TAG] = list(repro[\"reproducible?\"])\n",
    "\n",
    "for i in range(1, repro_len + 1):\n",
    "    config = f\"configs/{i:04d}_randconfig\"\n",
    "    with open(config, 'r') as stream:\n",
    "        for line in stream:\n",
    "            if line.startswith('#'):\n",
    "                continue\n",
    "            if line.startswith(\"CONFIG_\"):\n",
    "                name, value = line.strip().split('=')\n",
    "                name = name[7:]\n",
    "                table[name][i-1] = value\n",
    "\n",
    "df = pandas.DataFrame.from_dict(table)"
   ]
  },
  {
   "cell_type": "code",
   "execution_count": null,
   "id": "10935fdc",
   "metadata": {},
   "outputs": [],
   "source": [
    "encoding_map = {\n",
    "    'y': 1,\n",
    "    'm': 2,\n",
    "}\n",
    "\n",
    "# Drop columns with datatype 'object'\n",
    "df = df.replace(encoding_map)\n",
    "\n",
    "constant_columns = df.columns[df.nunique() == 1]\n",
    "df.drop(constant_columns, axis=1, inplace=True)\n"
   ]
  },
  {
   "cell_type": "code",
   "execution_count": null,
   "id": "80667ea6",
   "metadata": {},
   "outputs": [],
   "source": [
    "df = df.drop(df.select_dtypes(include=['object']).columns, axis=1)"
   ]
  },
  {
   "cell_type": "code",
   "execution_count": null,
   "id": "7e1b5f36",
   "metadata": {},
   "outputs": [],
   "source": [
    "df = df.query(\"`BUILD?` == True\")"
   ]
  },
  {
   "cell_type": "code",
   "execution_count": null,
   "id": "8339bcc3",
   "metadata": {},
   "outputs": [],
   "source": [
    "# Drop the 'Unnamed: 0' column\n",
    "# df.drop(columns=['Unnamed: 0'], inplace=True)\n",
    "\n",
    "# Separate the target variable and features\n",
    "X = df.drop(columns=['REPRO?'])\n",
    "y = df['REPRO?']\n",
    "\n",
    "# One-hot encode the features\n",
    "# encoder = OneHotEncoder(drop='first', sparse=False)\n",
    "# X_encoded = encoder.fit_transform(X)\n",
    "\n",
    "# Apply the mapping to the dataframe, filling NaN with 0\n",
    "X_encoded = X.replace(encoding_map).fillna(0)\n",
    "\n",
    "# Split the dataset into training and testing sets\n",
    "X_train, X_test, y_train, y_test = train_test_split(X_encoded, y, test_size=0.2, random_state=42)\n",
    "\n",
    "X_train.shape, X_test.shape\n"
   ]
  },
  {
   "cell_type": "code",
   "execution_count": null,
   "id": "3505d1a1",
   "metadata": {},
   "outputs": [],
   "source": [
    "df.drop(columns=['REPRO?'])"
   ]
  },
  {
   "cell_type": "code",
   "execution_count": null,
   "id": "204aaf37",
   "metadata": {},
   "outputs": [],
   "source": [
    "from sklearn.tree import DecisionTreeClassifier\n",
    "from sklearn.metrics import accuracy_score\n",
    "\n",
    "# Initialize the DecisionTreeClassifier\n",
    "clf = DecisionTreeClassifier(random_state=42)\n",
    "\n",
    "# Train the model\n",
    "clf.fit(X_train, y_train)\n",
    "\n",
    "# Predict on the test set\n",
    "y_pred = clf.predict(X_test)\n",
    "\n",
    "# Calculate the accuracy of the model\n",
    "accuracy = accuracy_score(y_test, y_pred)\n",
    "accuracy\n"
   ]
  },
  {
   "cell_type": "code",
   "execution_count": null,
   "id": "8a9f5fcd",
   "metadata": {},
   "outputs": [],
   "source": [
    "from sklearn.tree import export_graphviz\n",
    "import graphviz\n",
    "\n",
    "ft_names = X_train.columns.tolist()\n",
    "\n",
    "# Export the decision tree to DOT format\n",
    "dot_data = export_graphviz(clf, out_file=None, \n",
    "                           feature_names=ft_names, \n",
    "                           class_names=['Not Repro', 'Repro'], \n",
    "                           filled=True, rounded=True, \n",
    "                           special_characters=True)\n",
    "\n",
    "# Render and save the visualization using graphviz\n",
    "graph = graphviz.Source(dot_data)\n",
    "graph.render(\"decision_tree_repro\", format=\"png\")\n"
   ]
  },
  {
   "cell_type": "code",
   "execution_count": null,
   "id": "6319293d",
   "metadata": {},
   "outputs": [],
   "source": [
    "graph"
   ]
  }
 ],
 "metadata": {
  "kernelspec": {
   "display_name": "Python 3 (ipykernel)",
   "language": "python",
   "name": "python3"
  },
  "language_info": {
   "codemirror_mode": {
    "name": "ipython",
    "version": 3
   },
   "file_extension": ".py",
   "mimetype": "text/x-python",
   "name": "python",
   "nbconvert_exporter": "python",
   "pygments_lexer": "ipython3",
   "version": "3.10.13"
  }
 },
 "nbformat": 4,
 "nbformat_minor": 5
}
