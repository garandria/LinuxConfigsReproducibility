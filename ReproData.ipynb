{
 "cells": [
  {
   "cell_type": "code",
   "execution_count": 1,
   "id": "3e76af1b",
   "metadata": {},
   "outputs": [],
   "source": [
    "import pandas\n",
    "from sklearn.model_selection import train_test_split\n",
    "from sklearn.preprocessing import OneHotEncoder"
   ]
  },
  {
   "cell_type": "code",
   "execution_count": 2,
   "id": "a5355d98",
   "metadata": {},
   "outputs": [],
   "source": [
    "FEATURES_LIST_FILE = \"data/features\"\n",
    "RAW_DATA_CSV = \"data/repro.csv\"\n",
    "BUILD_TAG = \"BUILD?\"\n",
    "REPRODUCTIBLE_TAG = \"REPRO?\"\n",
    "\n",
    "lines = None\n",
    "with open(FEATURES_LIST_FILE, 'r') as stream:\n",
    "    lines = map(lambda x: x.strip(), stream.readlines())\n",
    "\n",
    "repro = pandas.read_csv(RAW_DATA_CSV)\n",
    "repro_len = len(repro)\n",
    "table = dict()\n",
    "\n",
    "for elt in lines:\n",
    "    table[elt] = [0 for _ in range(repro_len)]\n",
    "\n",
    "table[BUILD_TAG] = list(repro[\"build?\"])\n",
    "table[REPRODUCTIBLE_TAG] = list(repro[\"reproducible?\"])\n",
    "\n",
    "for i in range(1, repro_len + 1):\n",
    "    config = f\"configs/{i:04d}_randconfig\"\n",
    "    with open(config, 'r') as stream:\n",
    "        for line in stream:\n",
    "            if line.startswith('#'):\n",
    "                continue\n",
    "            if line.startswith(\"CONFIG_\"):\n",
    "                name, value = line.strip().split('=')\n",
    "                name = name[7:]\n",
    "                table[name][i-1] = value\n",
    "\n",
    "df = pandas.DataFrame.from_dict(table)"
   ]
  },
  {
   "cell_type": "code",
   "execution_count": 3,
   "id": "919af2af",
   "metadata": {},
   "outputs": [],
   "source": [
    "# We keep the columns where the values are not 'y' or 'm'.\n",
    "# We drop the columns BUILD & REPRO since we need them\n",
    "non_tristate = df.loc[:, ~(df.isin(['y', 'm'])).any()]\\\n",
    "               .drop(columns=[BUILD_TAG, REPRODUCTIBLE_TAG]).columns\n",
    "df = df.drop(columns=non_tristate)"
   ]
  },
  {
   "cell_type": "code",
   "execution_count": 4,
   "id": "15399f9b",
   "metadata": {},
   "outputs": [],
   "source": [
    "encoding_map = {\n",
    "    'y': 1,\n",
    "    'm': 2,\n",
    "}\n",
    "# Apply encoding\n",
    "df = df.replace(encoding_map)"
   ]
  },
  {
   "cell_type": "code",
   "execution_count": 5,
   "id": "7e8efdab",
   "metadata": {},
   "outputs": [],
   "source": [
    "# Drop features that always have the same value\n",
    "constant_columns = df.columns[df.nunique() == 1]\n",
    "df = df.drop(constant_columns, axis=1)"
   ]
  },
  {
   "cell_type": "code",
   "execution_count": 6,
   "id": "8339bcc3",
   "metadata": {},
   "outputs": [
    {
     "data": {
      "text/plain": [
       "((1092, 12169), (729, 12169))"
      ]
     },
     "execution_count": 6,
     "metadata": {},
     "output_type": "execute_result"
    }
   ],
   "source": [
    "df = df.query(\"`BUILD?` == True\")\n",
    "\n",
    "# Separate the target variable and features\n",
    "X = df.drop(columns=[REPRODUCTIBLE_TAG])\n",
    "y = df[REPRODUCTIBLE_TAG]\n",
    "\n",
    "# Split the dataset into training and testing sets\n",
    "X_train, X_test, y_train, y_test = train_test_split(X, y, test_size=0.4, random_state=42)\n",
    "\n",
    "X_train.shape, X_test.shape"
   ]
  },
  {
   "cell_type": "code",
   "execution_count": 7,
   "id": "56193a12",
   "metadata": {
    "scrolled": true
   },
   "outputs": [
    {
     "data": {
      "text/plain": [
       "12170"
      ]
     },
     "execution_count": 7,
     "metadata": {},
     "output_type": "execute_result"
    }
   ],
   "source": [
    "len(df.columns)"
   ]
  },
  {
   "cell_type": "code",
   "execution_count": 8,
   "id": "204aaf37",
   "metadata": {},
   "outputs": [
    {
     "data": {
      "text/plain": [
       "1.0"
      ]
     },
     "execution_count": 8,
     "metadata": {},
     "output_type": "execute_result"
    }
   ],
   "source": [
    "from sklearn.tree import DecisionTreeClassifier\n",
    "from sklearn.metrics import accuracy_score\n",
    "\n",
    "# Initialize the DecisionTreeClassifier\n",
    "clf = DecisionTreeClassifier()\n",
    "\n",
    "# Train the model\n",
    "clf.fit(X_train, y_train)\n",
    "\n",
    "# Predict on the test set\n",
    "y_pred = clf.predict(X_test)\n",
    "\n",
    "# Calculate the accuracy of the model\n",
    "accuracy = accuracy_score(y_test, y_pred)\n",
    "accuracy\n"
   ]
  },
  {
   "cell_type": "code",
   "execution_count": 9,
   "id": "8a9f5fcd",
   "metadata": {},
   "outputs": [
    {
     "data": {
      "text/plain": [
       "'decision_tree_repro.png'"
      ]
     },
     "execution_count": 9,
     "metadata": {},
     "output_type": "execute_result"
    }
   ],
   "source": [
    "from sklearn.tree import export_graphviz\n",
    "import graphviz\n",
    "\n",
    "ft_names = X_train.columns.tolist()\n",
    "\n",
    "# Export the decision tree to DOT format\n",
    "dot_data = export_graphviz(clf, out_file=None, \n",
    "                           feature_names=ft_names, \n",
    "                           class_names=['Not Repro', 'Repro'], \n",
    "                           filled=True, rounded=True, \n",
    "                           special_characters=True)\n",
    "\n",
    "# Render and save the visualization using graphviz\n",
    "graph = graphviz.Source(dot_data)\n",
    "graph.render(\"decision_tree_repro\", format=\"png\")\n"
   ]
  },
  {
   "cell_type": "code",
   "execution_count": 10,
   "id": "1f7dfa80",
   "metadata": {},
   "outputs": [
    {
     "data": {
      "image/svg+xml": [
       "<?xml version=\"1.0\" encoding=\"UTF-8\" standalone=\"no\"?>\n",
       "<!DOCTYPE svg PUBLIC \"-//W3C//DTD SVG 1.1//EN\"\n",
       " \"http://www.w3.org/Graphics/SVG/1.1/DTD/svg11.dtd\">\n",
       "<!-- Generated by graphviz version 8.1.0 (20230707.0739)\n",
       " -->\n",
       "<!-- Title: Tree Pages: 1 -->\n",
       "<svg width=\"629pt\" height=\"736pt\"\n",
       " viewBox=\"0.00 0.00 629.25 736.25\" xmlns=\"http://www.w3.org/2000/svg\" xmlns:xlink=\"http://www.w3.org/1999/xlink\">\n",
       "<g id=\"graph0\" class=\"graph\" transform=\"scale(1 1) rotate(0) translate(4 732.25)\">\n",
       "<title>Tree</title>\n",
       "<polygon fill=\"white\" stroke=\"none\" points=\"-4,4 -4,-732.25 625.25,-732.25 625.25,4 -4,4\"/>\n",
       "<!-- 0 -->\n",
       "<g id=\"node1\" class=\"node\">\n",
       "<title>0</title>\n",
       "<path fill=\"#f1f8fd\" stroke=\"black\" d=\"M536,-728.25C536,-728.25 364,-728.25 364,-728.25 358,-728.25 352,-722.25 352,-716.25 352,-716.25 352,-646 352,-646 352,-640 358,-634 364,-634 364,-634 536,-634 536,-634 542,-634 548,-640 548,-646 548,-646 548,-716.25 548,-716.25 548,-722.25 542,-728.25 536,-728.25\"/>\n",
       "<text text-anchor=\"start\" x=\"360\" y=\"-710.95\" font-family=\"Helvetica,sans-Serif\" font-size=\"14.00\">MODULE_SIG_SHA1 ≤ 0.5</text>\n",
       "<text text-anchor=\"start\" x=\"406.5\" y=\"-693.7\" font-family=\"Helvetica,sans-Serif\" font-size=\"14.00\">gini = 0.499</text>\n",
       "<text text-anchor=\"start\" x=\"392.62\" y=\"-676.45\" font-family=\"Helvetica,sans-Serif\" font-size=\"14.00\">samples = 1092</text>\n",
       "<text text-anchor=\"start\" x=\"384\" y=\"-659.2\" font-family=\"Helvetica,sans-Serif\" font-size=\"14.00\">value = [526, 566]</text>\n",
       "<text text-anchor=\"start\" x=\"402\" y=\"-641.95\" font-family=\"Helvetica,sans-Serif\" font-size=\"14.00\">class = Repro</text>\n",
       "</g>\n",
       "<!-- 1 -->\n",
       "<g id=\"node2\" class=\"node\">\n",
       "<title>1</title>\n",
       "<path fill=\"#7ebfee\" stroke=\"black\" d=\"M450.38,-598C450.38,-598 247.62,-598 247.62,-598 241.62,-598 235.62,-592 235.62,-586 235.62,-586 235.62,-515.75 235.62,-515.75 235.62,-509.75 241.62,-503.75 247.62,-503.75 247.62,-503.75 450.38,-503.75 450.38,-503.75 456.38,-503.75 462.38,-509.75 462.38,-515.75 462.38,-515.75 462.38,-586 462.38,-586 462.38,-592 456.38,-598 450.38,-598\"/>\n",
       "<text text-anchor=\"start\" x=\"243.62\" y=\"-580.7\" font-family=\"Helvetica,sans-Serif\" font-size=\"14.00\">GCOV_PROFILE_FTRACE ≤ 0.5</text>\n",
       "<text text-anchor=\"start\" x=\"305.5\" y=\"-563.45\" font-family=\"Helvetica,sans-Serif\" font-size=\"14.00\">gini = 0.384</text>\n",
       "<text text-anchor=\"start\" x=\"296.12\" y=\"-546.2\" font-family=\"Helvetica,sans-Serif\" font-size=\"14.00\">samples = 764</text>\n",
       "<text text-anchor=\"start\" x=\"283\" y=\"-528.95\" font-family=\"Helvetica,sans-Serif\" font-size=\"14.00\">value = [198, 566]</text>\n",
       "<text text-anchor=\"start\" x=\"301\" y=\"-511.7\" font-family=\"Helvetica,sans-Serif\" font-size=\"14.00\">class = Repro</text>\n",
       "</g>\n",
       "<!-- 0&#45;&gt;1 -->\n",
       "<g id=\"edge1\" class=\"edge\">\n",
       "<title>0&#45;&gt;1</title>\n",
       "<path fill=\"none\" stroke=\"black\" d=\"M413.54,-633.82C406.6,-625.02 399.28,-615.72 392.16,-606.68\"/>\n",
       "<polygon fill=\"black\" stroke=\"black\" points=\"394.35,-604.8 385.41,-599.11 388.85,-609.13 394.35,-604.8\"/>\n",
       "<text text-anchor=\"middle\" x=\"382.46\" y=\"-618.26\" font-family=\"Helvetica,sans-Serif\" font-size=\"14.00\">True</text>\n",
       "</g>\n",
       "<!-- 10 -->\n",
       "<g id=\"node11\" class=\"node\">\n",
       "<title>10</title>\n",
       "<path fill=\"#e58139\" stroke=\"black\" d=\"M609.25,-589.38C609.25,-589.38 492.75,-589.38 492.75,-589.38 486.75,-589.38 480.75,-583.38 480.75,-577.38 480.75,-577.38 480.75,-524.38 480.75,-524.38 480.75,-518.38 486.75,-512.38 492.75,-512.38 492.75,-512.38 609.25,-512.38 609.25,-512.38 615.25,-512.38 621.25,-518.38 621.25,-524.38 621.25,-524.38 621.25,-577.38 621.25,-577.38 621.25,-583.38 615.25,-589.38 609.25,-589.38\"/>\n",
       "<text text-anchor=\"start\" x=\"516.5\" y=\"-572.08\" font-family=\"Helvetica,sans-Serif\" font-size=\"14.00\">gini = 0.0</text>\n",
       "<text text-anchor=\"start\" x=\"498.12\" y=\"-554.83\" font-family=\"Helvetica,sans-Serif\" font-size=\"14.00\">samples = 328</text>\n",
       "<text text-anchor=\"start\" x=\"494\" y=\"-537.58\" font-family=\"Helvetica,sans-Serif\" font-size=\"14.00\">value = [328, 0]</text>\n",
       "<text text-anchor=\"start\" x=\"488.75\" y=\"-520.33\" font-family=\"Helvetica,sans-Serif\" font-size=\"14.00\">class = Not Repro</text>\n",
       "</g>\n",
       "<!-- 0&#45;&gt;10 -->\n",
       "<g id=\"edge10\" class=\"edge\">\n",
       "<title>0&#45;&gt;10</title>\n",
       "<path fill=\"none\" stroke=\"black\" d=\"M486.46,-633.82C495.65,-622.16 505.51,-609.64 514.68,-597.99\"/>\n",
       "<polygon fill=\"black\" stroke=\"black\" points=\"517.79,-600.7 521.23,-590.68 512.29,-596.37 517.79,-600.7\"/>\n",
       "<text text-anchor=\"middle\" x=\"524.18\" y=\"-609.83\" font-family=\"Helvetica,sans-Serif\" font-size=\"14.00\">False</text>\n",
       "</g>\n",
       "<!-- 2 -->\n",
       "<g id=\"node3\" class=\"node\">\n",
       "<title>2</title>\n",
       "<path fill=\"#5dafea\" stroke=\"black\" d=\"M342.75,-467.75C342.75,-467.75 169.25,-467.75 169.25,-467.75 163.25,-467.75 157.25,-461.75 157.25,-455.75 157.25,-455.75 157.25,-385.5 157.25,-385.5 157.25,-379.5 163.25,-373.5 169.25,-373.5 169.25,-373.5 342.75,-373.5 342.75,-373.5 348.75,-373.5 354.75,-379.5 354.75,-385.5 354.75,-385.5 354.75,-455.75 354.75,-455.75 354.75,-461.75 348.75,-467.75 342.75,-467.75\"/>\n",
       "<text text-anchor=\"start\" x=\"165.25\" y=\"-450.45\" font-family=\"Helvetica,sans-Serif\" font-size=\"14.00\">GCOV_PROFILE_ALL ≤ 0.5</text>\n",
       "<text text-anchor=\"start\" x=\"212.5\" y=\"-433.2\" font-family=\"Helvetica,sans-Serif\" font-size=\"14.00\">gini = 0.261</text>\n",
       "<text text-anchor=\"start\" x=\"203.12\" y=\"-415.95\" font-family=\"Helvetica,sans-Serif\" font-size=\"14.00\">samples = 669</text>\n",
       "<text text-anchor=\"start\" x=\"190\" y=\"-398.7\" font-family=\"Helvetica,sans-Serif\" font-size=\"14.00\">value = [103, 566]</text>\n",
       "<text text-anchor=\"start\" x=\"208\" y=\"-381.45\" font-family=\"Helvetica,sans-Serif\" font-size=\"14.00\">class = Repro</text>\n",
       "</g>\n",
       "<!-- 1&#45;&gt;2 -->\n",
       "<g id=\"edge2\" class=\"edge\">\n",
       "<title>1&#45;&gt;2</title>\n",
       "<path fill=\"none\" stroke=\"black\" d=\"M315.42,-503.57C309.1,-494.86 302.44,-485.66 295.94,-476.71\"/>\n",
       "<polygon fill=\"black\" stroke=\"black\" points=\"298.23,-474.9 289.53,-468.86 292.56,-479.01 298.23,-474.9\"/>\n",
       "</g>\n",
       "<!-- 9 -->\n",
       "<g id=\"node10\" class=\"node\">\n",
       "<title>9</title>\n",
       "<path fill=\"#e58139\" stroke=\"black\" d=\"M501.25,-459.12C501.25,-459.12 384.75,-459.12 384.75,-459.12 378.75,-459.12 372.75,-453.12 372.75,-447.12 372.75,-447.12 372.75,-394.12 372.75,-394.12 372.75,-388.12 378.75,-382.12 384.75,-382.12 384.75,-382.12 501.25,-382.12 501.25,-382.12 507.25,-382.12 513.25,-388.12 513.25,-394.12 513.25,-394.12 513.25,-447.12 513.25,-447.12 513.25,-453.12 507.25,-459.12 501.25,-459.12\"/>\n",
       "<text text-anchor=\"start\" x=\"408.5\" y=\"-441.82\" font-family=\"Helvetica,sans-Serif\" font-size=\"14.00\">gini = 0.0</text>\n",
       "<text text-anchor=\"start\" x=\"394.62\" y=\"-424.57\" font-family=\"Helvetica,sans-Serif\" font-size=\"14.00\">samples = 95</text>\n",
       "<text text-anchor=\"start\" x=\"390.5\" y=\"-407.32\" font-family=\"Helvetica,sans-Serif\" font-size=\"14.00\">value = [95, 0]</text>\n",
       "<text text-anchor=\"start\" x=\"380.75\" y=\"-390.07\" font-family=\"Helvetica,sans-Serif\" font-size=\"14.00\">class = Not Repro</text>\n",
       "</g>\n",
       "<!-- 1&#45;&gt;9 -->\n",
       "<g id=\"edge9\" class=\"edge\">\n",
       "<title>1&#45;&gt;9</title>\n",
       "<path fill=\"none\" stroke=\"black\" d=\"M382.94,-503.57C391.4,-492.02 400.48,-479.64 408.95,-468.08\"/>\n",
       "<polygon fill=\"black\" stroke=\"black\" points=\"412.2,-470.57 415.29,-460.43 406.55,-466.43 412.2,-470.57\"/>\n",
       "</g>\n",
       "<!-- 3 -->\n",
       "<g id=\"node4\" class=\"node\">\n",
       "<title>3</title>\n",
       "<path fill=\"#45a3e7\" stroke=\"black\" d=\"M248.62,-337.5C248.62,-337.5 77.38,-337.5 77.38,-337.5 71.38,-337.5 65.38,-331.5 65.38,-325.5 65.38,-325.5 65.38,-255.25 65.38,-255.25 65.38,-249.25 71.38,-243.25 77.38,-243.25 77.38,-243.25 248.62,-243.25 248.62,-243.25 254.62,-243.25 260.62,-249.25 260.62,-255.25 260.62,-255.25 260.62,-325.5 260.62,-325.5 260.62,-331.5 254.62,-337.5 248.62,-337.5\"/>\n",
       "<text text-anchor=\"start\" x=\"73.38\" y=\"-320.2\" font-family=\"Helvetica,sans-Serif\" font-size=\"14.00\">DEBUG_INFO_SPLIT ≤ 0.5</text>\n",
       "<text text-anchor=\"start\" x=\"119.5\" y=\"-302.95\" font-family=\"Helvetica,sans-Serif\" font-size=\"14.00\">gini = 0.104</text>\n",
       "<text text-anchor=\"start\" x=\"110.12\" y=\"-285.7\" font-family=\"Helvetica,sans-Serif\" font-size=\"14.00\">samples = 599</text>\n",
       "<text text-anchor=\"start\" x=\"101.5\" y=\"-268.45\" font-family=\"Helvetica,sans-Serif\" font-size=\"14.00\">value = [33, 566]</text>\n",
       "<text text-anchor=\"start\" x=\"115\" y=\"-251.2\" font-family=\"Helvetica,sans-Serif\" font-size=\"14.00\">class = Repro</text>\n",
       "</g>\n",
       "<!-- 2&#45;&gt;3 -->\n",
       "<g id=\"edge3\" class=\"edge\">\n",
       "<title>2&#45;&gt;3</title>\n",
       "<path fill=\"none\" stroke=\"black\" d=\"M222.42,-373.32C216.1,-364.61 209.44,-355.41 202.94,-346.46\"/>\n",
       "<polygon fill=\"black\" stroke=\"black\" points=\"205.23,-344.65 196.53,-338.61 199.56,-348.76 205.23,-344.65\"/>\n",
       "</g>\n",
       "<!-- 8 -->\n",
       "<g id=\"node9\" class=\"node\">\n",
       "<title>8</title>\n",
       "<path fill=\"#e58139\" stroke=\"black\" d=\"M407.25,-328.88C407.25,-328.88 290.75,-328.88 290.75,-328.88 284.75,-328.88 278.75,-322.88 278.75,-316.88 278.75,-316.88 278.75,-263.88 278.75,-263.88 278.75,-257.88 284.75,-251.88 290.75,-251.88 290.75,-251.88 407.25,-251.88 407.25,-251.88 413.25,-251.88 419.25,-257.88 419.25,-263.88 419.25,-263.88 419.25,-316.88 419.25,-316.88 419.25,-322.88 413.25,-328.88 407.25,-328.88\"/>\n",
       "<text text-anchor=\"start\" x=\"314.5\" y=\"-311.57\" font-family=\"Helvetica,sans-Serif\" font-size=\"14.00\">gini = 0.0</text>\n",
       "<text text-anchor=\"start\" x=\"300.62\" y=\"-294.32\" font-family=\"Helvetica,sans-Serif\" font-size=\"14.00\">samples = 70</text>\n",
       "<text text-anchor=\"start\" x=\"296.5\" y=\"-277.07\" font-family=\"Helvetica,sans-Serif\" font-size=\"14.00\">value = [70, 0]</text>\n",
       "<text text-anchor=\"start\" x=\"286.75\" y=\"-259.82\" font-family=\"Helvetica,sans-Serif\" font-size=\"14.00\">class = Not Repro</text>\n",
       "</g>\n",
       "<!-- 2&#45;&gt;8 -->\n",
       "<g id=\"edge8\" class=\"edge\">\n",
       "<title>2&#45;&gt;8</title>\n",
       "<path fill=\"none\" stroke=\"black\" d=\"M289.58,-373.32C297.95,-361.77 306.93,-349.39 315.31,-337.83\"/>\n",
       "<polygon fill=\"black\" stroke=\"black\" points=\"318.55,-340.33 321.58,-330.18 312.88,-336.22 318.55,-340.33\"/>\n",
       "</g>\n",
       "<!-- 4 -->\n",
       "<g id=\"node5\" class=\"node\">\n",
       "<title>4</title>\n",
       "<path fill=\"#399de5\" stroke=\"black\" d=\"M118,-198.62C118,-198.62 12,-198.62 12,-198.62 6,-198.62 0,-192.62 0,-186.62 0,-186.62 0,-133.62 0,-133.62 0,-127.62 6,-121.62 12,-121.62 12,-121.62 118,-121.62 118,-121.62 124,-121.62 130,-127.62 130,-133.62 130,-133.62 130,-186.62 130,-186.62 130,-192.62 124,-198.62 118,-198.62\"/>\n",
       "<text text-anchor=\"start\" x=\"30.5\" y=\"-181.32\" font-family=\"Helvetica,sans-Serif\" font-size=\"14.00\">gini = 0.0</text>\n",
       "<text text-anchor=\"start\" x=\"12.12\" y=\"-164.07\" font-family=\"Helvetica,sans-Serif\" font-size=\"14.00\">samples = 535</text>\n",
       "<text text-anchor=\"start\" x=\"8\" y=\"-146.82\" font-family=\"Helvetica,sans-Serif\" font-size=\"14.00\">value = [0, 535]</text>\n",
       "<text text-anchor=\"start\" x=\"17\" y=\"-129.57\" font-family=\"Helvetica,sans-Serif\" font-size=\"14.00\">class = Repro</text>\n",
       "</g>\n",
       "<!-- 3&#45;&gt;4 -->\n",
       "<g id=\"edge4\" class=\"edge\">\n",
       "<title>3&#45;&gt;4</title>\n",
       "<path fill=\"none\" stroke=\"black\" d=\"M127.62,-243.07C118.79,-231.52 109.33,-219.14 100.5,-207.58\"/>\n",
       "<polygon fill=\"black\" stroke=\"black\" points=\"102.74,-205.75 93.89,-199.93 97.18,-210 102.74,-205.75\"/>\n",
       "</g>\n",
       "<!-- 5 -->\n",
       "<g id=\"node6\" class=\"node\">\n",
       "<title>5</title>\n",
       "<path fill=\"#fdf7f3\" stroke=\"black\" d=\"M362.38,-207.25C362.38,-207.25 159.62,-207.25 159.62,-207.25 153.62,-207.25 147.62,-201.25 147.62,-195.25 147.62,-195.25 147.62,-125 147.62,-125 147.62,-119 153.62,-113 159.62,-113 159.62,-113 362.38,-113 362.38,-113 368.38,-113 374.38,-119 374.38,-125 374.38,-125 374.38,-195.25 374.38,-195.25 374.38,-201.25 368.38,-207.25 362.38,-207.25\"/>\n",
       "<text text-anchor=\"start\" x=\"155.62\" y=\"-189.95\" font-family=\"Helvetica,sans-Serif\" font-size=\"14.00\">DEBUG_INFO_REDUCED ≤ 0.5</text>\n",
       "<text text-anchor=\"start\" x=\"226.5\" y=\"-172.7\" font-family=\"Helvetica,sans-Serif\" font-size=\"14.00\">gini = 0.5</text>\n",
       "<text text-anchor=\"start\" x=\"212.62\" y=\"-155.45\" font-family=\"Helvetica,sans-Serif\" font-size=\"14.00\">samples = 64</text>\n",
       "<text text-anchor=\"start\" x=\"204\" y=\"-138.2\" font-family=\"Helvetica,sans-Serif\" font-size=\"14.00\">value = [33, 31]</text>\n",
       "<text text-anchor=\"start\" x=\"198.75\" y=\"-120.95\" font-family=\"Helvetica,sans-Serif\" font-size=\"14.00\">class = Not Repro</text>\n",
       "</g>\n",
       "<!-- 3&#45;&gt;5 -->\n",
       "<g id=\"edge5\" class=\"edge\">\n",
       "<title>3&#45;&gt;5</title>\n",
       "<path fill=\"none\" stroke=\"black\" d=\"M198.38,-243.07C205.11,-234.27 212.21,-224.97 219.12,-215.93\"/>\n",
       "<polygon fill=\"black\" stroke=\"black\" points=\"222.38,-218.43 225.67,-208.36 216.82,-214.18 222.38,-218.43\"/>\n",
       "</g>\n",
       "<!-- 6 -->\n",
       "<g id=\"node7\" class=\"node\">\n",
       "<title>6</title>\n",
       "<path fill=\"#e58139\" stroke=\"black\" d=\"M244.25,-77C244.25,-77 127.75,-77 127.75,-77 121.75,-77 115.75,-71 115.75,-65 115.75,-65 115.75,-12 115.75,-12 115.75,-6 121.75,0 127.75,0 127.75,0 244.25,0 244.25,0 250.25,0 256.25,-6 256.25,-12 256.25,-12 256.25,-65 256.25,-65 256.25,-71 250.25,-77 244.25,-77\"/>\n",
       "<text text-anchor=\"start\" x=\"151.5\" y=\"-59.7\" font-family=\"Helvetica,sans-Serif\" font-size=\"14.00\">gini = 0.0</text>\n",
       "<text text-anchor=\"start\" x=\"137.62\" y=\"-42.45\" font-family=\"Helvetica,sans-Serif\" font-size=\"14.00\">samples = 33</text>\n",
       "<text text-anchor=\"start\" x=\"133.5\" y=\"-25.2\" font-family=\"Helvetica,sans-Serif\" font-size=\"14.00\">value = [33, 0]</text>\n",
       "<text text-anchor=\"start\" x=\"123.75\" y=\"-7.95\" font-family=\"Helvetica,sans-Serif\" font-size=\"14.00\">class = Not Repro</text>\n",
       "</g>\n",
       "<!-- 5&#45;&gt;6 -->\n",
       "<g id=\"edge6\" class=\"edge\">\n",
       "<title>5&#45;&gt;6</title>\n",
       "<path fill=\"none\" stroke=\"black\" d=\"M231.79,-112.53C226.41,-103.96 220.8,-95 215.41,-86.41\"/>\n",
       "<polygon fill=\"black\" stroke=\"black\" points=\"217.96,-84.89 209.69,-78.28 212.03,-88.61 217.96,-84.89\"/>\n",
       "</g>\n",
       "<!-- 7 -->\n",
       "<g id=\"node8\" class=\"node\">\n",
       "<title>7</title>\n",
       "<path fill=\"#399de5\" stroke=\"black\" d=\"M383.5,-77C383.5,-77 286.5,-77 286.5,-77 280.5,-77 274.5,-71 274.5,-65 274.5,-65 274.5,-12 274.5,-12 274.5,-6 280.5,0 286.5,0 286.5,0 383.5,0 383.5,0 389.5,0 395.5,-6 395.5,-12 395.5,-12 395.5,-65 395.5,-65 395.5,-71 389.5,-77 383.5,-77\"/>\n",
       "<text text-anchor=\"start\" x=\"300.5\" y=\"-59.7\" font-family=\"Helvetica,sans-Serif\" font-size=\"14.00\">gini = 0.0</text>\n",
       "<text text-anchor=\"start\" x=\"286.62\" y=\"-42.45\" font-family=\"Helvetica,sans-Serif\" font-size=\"14.00\">samples = 31</text>\n",
       "<text text-anchor=\"start\" x=\"282.5\" y=\"-25.2\" font-family=\"Helvetica,sans-Serif\" font-size=\"14.00\">value = [0, 31]</text>\n",
       "<text text-anchor=\"start\" x=\"287\" y=\"-7.95\" font-family=\"Helvetica,sans-Serif\" font-size=\"14.00\">class = Repro</text>\n",
       "</g>\n",
       "<!-- 5&#45;&gt;7 -->\n",
       "<g id=\"edge7\" class=\"edge\">\n",
       "<title>5&#45;&gt;7</title>\n",
       "<path fill=\"none\" stroke=\"black\" d=\"M289.82,-112.53C295.13,-103.96 300.67,-95 305.98,-86.41\"/>\n",
       "<polygon fill=\"black\" stroke=\"black\" points=\"309.34,-88.63 311.63,-78.28 303.39,-84.94 309.34,-88.63\"/>\n",
       "</g>\n",
       "</g>\n",
       "</svg>\n"
      ],
      "text/plain": [
       "<graphviz.sources.Source at 0x7fd39cee2e00>"
      ]
     },
     "execution_count": 10,
     "metadata": {},
     "output_type": "execute_result"
    }
   ],
   "source": [
    "graph"
   ]
  }
 ],
 "metadata": {
  "kernelspec": {
   "display_name": "Python 3 (ipykernel)",
   "language": "python",
   "name": "python3"
  },
  "language_info": {
   "codemirror_mode": {
    "name": "ipython",
    "version": 3
   },
   "file_extension": ".py",
   "mimetype": "text/x-python",
   "name": "python",
   "nbconvert_exporter": "python",
   "pygments_lexer": "ipython3",
   "version": "3.10.13"
  }
 },
 "nbformat": 4,
 "nbformat_minor": 5
}
