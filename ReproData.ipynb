{
 "cells": [
  {
   "cell_type": "code",
   "execution_count": 1,
   "id": "3e76af1b",
   "metadata": {},
   "outputs": [],
   "source": [
    "import pandas\n",
    "from sklearn.model_selection import train_test_split\n",
    "from sklearn.preprocessing import OneHotEncoder"
   ]
  },
  {
   "cell_type": "code",
   "execution_count": 2,
   "id": "a5355d98",
   "metadata": {},
   "outputs": [],
   "source": [
    "FEATURES_LIST_FILE = \"data/features\"\n",
    "RAW_DATA_CSV = \"data/repro.csv\"\n",
    "BUILD_TAG = \"BUILD\"\n",
    "REPRODUCTIBLE_TAG = \"REPRO\"\n",
    "\n",
    "lines = None\n",
    "with open(FEATURES_LIST_FILE, 'r') as stream:\n",
    "    lines = map(lambda x: x.strip(), stream.readlines())\n",
    "\n",
    "repro = pandas.read_csv(RAW_DATA_CSV)\n",
    "repro_len = len(repro)\n",
    "table = dict()\n",
    "\n",
    "for elt in lines:\n",
    "    table[elt] = [0 for _ in range(repro_len)]\n",
    "\n",
    "table[BUILD_TAG] = list(repro[\"build?\"])\n",
    "table[REPRODUCTIBLE_TAG] = list(repro[\"reproducible?\"])\n",
    "\n",
    "for i in range(1, repro_len + 1):\n",
    "    config = f\"configs/{i:04d}_randconfig\"\n",
    "    with open(config, 'r') as stream:\n",
    "        for line in stream:\n",
    "            if line.startswith('#'):\n",
    "                continue\n",
    "            if line.startswith(\"CONFIG_\"):\n",
    "                name, value = line.strip().split('=')\n",
    "                name = name[7:]\n",
    "                table[name][i-1] = value\n",
    "\n",
    "df = pandas.DataFrame.from_dict(table)"
   ]
  },
  {
   "cell_type": "code",
   "execution_count": 4,
   "id": "919af2af",
   "metadata": {},
   "outputs": [],
   "source": [
    "# We keep the columns where the values are not 'y' or 'm'.\n",
    "# We drop the columns BUILD & REPRO since we need them\n",
    "non_tristate = df.loc[:, ~(df.isin(['y', 'm'])).any()]\\\n",
    "               .drop(columns=[BUILD_TAG, REPRODUCTIBLE_TAG]).columns\n",
    "df = df.drop(columns=non_tristate)"
   ]
  },
  {
   "cell_type": "code",
   "execution_count": 5,
   "id": "15399f9b",
   "metadata": {},
   "outputs": [],
   "source": [
    "encoding_map = {\n",
    "    'y': 1,\n",
    "    'm': 2,\n",
    "}\n",
    "# Apply encoding\n",
    "df = df.replace(encoding_map)"
   ]
  },
  {
   "cell_type": "code",
   "execution_count": 6,
   "id": "7e8efdab",
   "metadata": {},
   "outputs": [],
   "source": [
    "# Drop features that always have the same value\n",
    "constant_columns = df.columns[df.nunique() == 1]\n",
    "df = df.drop(constant_columns, axis=1)"
   ]
  },
  {
   "cell_type": "code",
   "execution_count": 9,
   "id": "8339bcc3",
   "metadata": {},
   "outputs": [
    {
     "data": {
      "text/plain": [
       "((600, 988), (400, 988))"
      ]
     },
     "execution_count": 9,
     "metadata": {},
     "output_type": "execute_result"
    }
   ],
   "source": [
    "# Separate the target variable and features\n",
    "X = df.drop(columns=[REPRODUCTIBLE_TAG])\n",
    "y = df[REPRODUCTIBLE_TAG]\n",
    "\n",
    "# Split the dataset into training and testing sets\n",
    "X_train, X_test, y_train, y_test = train_test_split(X, y, test_size=0.4, random_state=42)\n",
    "\n",
    "X_train.shape, X_test.shape"
   ]
  },
  {
   "cell_type": "code",
   "execution_count": 10,
   "id": "56193a12",
   "metadata": {
    "scrolled": true
   },
   "outputs": [
    {
     "data": {
      "text/plain": [
       "989"
      ]
     },
     "execution_count": 10,
     "metadata": {},
     "output_type": "execute_result"
    }
   ],
   "source": [
    "len(df.columns)"
   ]
  },
  {
   "cell_type": "code",
   "execution_count": 11,
   "id": "204aaf37",
   "metadata": {},
   "outputs": [
    {
     "data": {
      "text/plain": [
       "1.0"
      ]
     },
     "execution_count": 11,
     "metadata": {},
     "output_type": "execute_result"
    }
   ],
   "source": [
    "from sklearn.tree import DecisionTreeClassifier\n",
    "from sklearn.metrics import accuracy_score\n",
    "\n",
    "# Initialize the DecisionTreeClassifier\n",
    "clf = DecisionTreeClassifier()\n",
    "\n",
    "# Train the model\n",
    "clf.fit(X_train, y_train)\n",
    "\n",
    "# Predict on the test set\n",
    "y_pred = clf.predict(X_test)\n",
    "\n",
    "# Calculate the accuracy of the model\n",
    "accuracy = accuracy_score(y_test, y_pred)\n",
    "accuracy\n"
   ]
  },
  {
   "cell_type": "code",
   "execution_count": 12,
   "id": "8a9f5fcd",
   "metadata": {},
   "outputs": [
    {
     "data": {
      "text/plain": [
       "'decision_tree_repro.png'"
      ]
     },
     "execution_count": 12,
     "metadata": {},
     "output_type": "execute_result"
    }
   ],
   "source": [
    "from sklearn.tree import export_graphviz\n",
    "import graphviz\n",
    "\n",
    "ft_names = X_train.columns.tolist()\n",
    "\n",
    "# Export the decision tree to DOT format\n",
    "dot_data = export_graphviz(clf, out_file=None, \n",
    "                           feature_names=ft_names, \n",
    "                           class_names=['Not Repro', 'Repro'], \n",
    "                           filled=True, rounded=True, \n",
    "                           special_characters=True)\n",
    "\n",
    "# Render and save the visualization using graphviz\n",
    "graph = graphviz.Source(dot_data)\n",
    "graph.render(\"decision_tree_repro\", format=\"png\")\n"
   ]
  },
  {
   "cell_type": "code",
   "execution_count": 13,
   "id": "1f7dfa80",
   "metadata": {},
   "outputs": [
    {
     "data": {
      "image/svg+xml": [
       "<?xml version=\"1.0\" encoding=\"UTF-8\" standalone=\"no\"?>\n",
       "<!DOCTYPE svg PUBLIC \"-//W3C//DTD SVG 1.1//EN\"\n",
       " \"http://www.w3.org/Graphics/SVG/1.1/DTD/svg11.dtd\">\n",
       "<!-- Generated by graphviz version 8.1.0 (20230707.0739)\n",
       " -->\n",
       "<!-- Title: Tree Pages: 1 -->\n",
       "<svg width=\"296pt\" height=\"215pt\"\n",
       " viewBox=\"0.00 0.00 296.25 215.25\" xmlns=\"http://www.w3.org/2000/svg\" xmlns:xlink=\"http://www.w3.org/1999/xlink\">\n",
       "<g id=\"graph0\" class=\"graph\" transform=\"scale(1 1) rotate(0) translate(4 211.25)\">\n",
       "<title>Tree</title>\n",
       "<polygon fill=\"white\" stroke=\"none\" points=\"-4,4 -4,-211.25 292.25,-211.25 292.25,4 -4,4\"/>\n",
       "<!-- 0 -->\n",
       "<g id=\"node1\" class=\"node\">\n",
       "<title>0</title>\n",
       "<path fill=\"#fefaf7\" stroke=\"black\" d=\"M203,-207.25C203,-207.25 79,-207.25 79,-207.25 73,-207.25 67,-201.25 67,-195.25 67,-195.25 67,-125 67,-125 67,-119 73,-113 79,-113 79,-113 203,-113 203,-113 209,-113 215,-119 215,-125 215,-125 215,-195.25 215,-195.25 215,-201.25 209,-207.25 203,-207.25\"/>\n",
       "<text text-anchor=\"start\" x=\"94.12\" y=\"-189.95\" font-family=\"Helvetica,sans-Serif\" font-size=\"14.00\">DEBUG ≤ 0.5</text>\n",
       "<text text-anchor=\"start\" x=\"106.5\" y=\"-172.7\" font-family=\"Helvetica,sans-Serif\" font-size=\"14.00\">gini = 0.5</text>\n",
       "<text text-anchor=\"start\" x=\"88.12\" y=\"-155.45\" font-family=\"Helvetica,sans-Serif\" font-size=\"14.00\">samples = 600</text>\n",
       "<text text-anchor=\"start\" x=\"75\" y=\"-138.2\" font-family=\"Helvetica,sans-Serif\" font-size=\"14.00\">value = [306, 294]</text>\n",
       "<text text-anchor=\"start\" x=\"78.75\" y=\"-120.95\" font-family=\"Helvetica,sans-Serif\" font-size=\"14.00\">class = Not Repro</text>\n",
       "</g>\n",
       "<!-- 1 -->\n",
       "<g id=\"node2\" class=\"node\">\n",
       "<title>1</title>\n",
       "<path fill=\"#399de5\" stroke=\"black\" d=\"M118,-77C118,-77 12,-77 12,-77 6,-77 0,-71 0,-65 0,-65 0,-12 0,-12 0,-6 6,0 12,0 12,0 118,0 118,0 124,0 130,-6 130,-12 130,-12 130,-65 130,-65 130,-71 124,-77 118,-77\"/>\n",
       "<text text-anchor=\"start\" x=\"30.5\" y=\"-59.7\" font-family=\"Helvetica,sans-Serif\" font-size=\"14.00\">gini = 0.0</text>\n",
       "<text text-anchor=\"start\" x=\"12.12\" y=\"-42.45\" font-family=\"Helvetica,sans-Serif\" font-size=\"14.00\">samples = 294</text>\n",
       "<text text-anchor=\"start\" x=\"8\" y=\"-25.2\" font-family=\"Helvetica,sans-Serif\" font-size=\"14.00\">value = [0, 294]</text>\n",
       "<text text-anchor=\"start\" x=\"17\" y=\"-7.95\" font-family=\"Helvetica,sans-Serif\" font-size=\"14.00\">class = Repro</text>\n",
       "</g>\n",
       "<!-- 0&#45;&gt;1 -->\n",
       "<g id=\"edge1\" class=\"edge\">\n",
       "<title>0&#45;&gt;1</title>\n",
       "<path fill=\"none\" stroke=\"black\" d=\"M111.4,-112.53C105.95,-103.96 100.26,-95 94.81,-86.41\"/>\n",
       "<polygon fill=\"black\" stroke=\"black\" points=\"97.32,-84.84 89,-78.28 91.41,-88.6 97.32,-84.84\"/>\n",
       "<text text-anchor=\"middle\" x=\"83.56\" y=\"-97.01\" font-family=\"Helvetica,sans-Serif\" font-size=\"14.00\">True</text>\n",
       "</g>\n",
       "<!-- 2 -->\n",
       "<g id=\"node3\" class=\"node\">\n",
       "<title>2</title>\n",
       "<path fill=\"#e58139\" stroke=\"black\" d=\"M276.25,-77C276.25,-77 159.75,-77 159.75,-77 153.75,-77 147.75,-71 147.75,-65 147.75,-65 147.75,-12 147.75,-12 147.75,-6 153.75,0 159.75,0 159.75,0 276.25,0 276.25,0 282.25,0 288.25,-6 288.25,-12 288.25,-12 288.25,-65 288.25,-65 288.25,-71 282.25,-77 276.25,-77\"/>\n",
       "<text text-anchor=\"start\" x=\"183.5\" y=\"-59.7\" font-family=\"Helvetica,sans-Serif\" font-size=\"14.00\">gini = 0.0</text>\n",
       "<text text-anchor=\"start\" x=\"165.12\" y=\"-42.45\" font-family=\"Helvetica,sans-Serif\" font-size=\"14.00\">samples = 306</text>\n",
       "<text text-anchor=\"start\" x=\"161\" y=\"-25.2\" font-family=\"Helvetica,sans-Serif\" font-size=\"14.00\">value = [306, 0]</text>\n",
       "<text text-anchor=\"start\" x=\"155.75\" y=\"-7.95\" font-family=\"Helvetica,sans-Serif\" font-size=\"14.00\">class = Not Repro</text>\n",
       "</g>\n",
       "<!-- 0&#45;&gt;2 -->\n",
       "<g id=\"edge2\" class=\"edge\">\n",
       "<title>0&#45;&gt;2</title>\n",
       "<path fill=\"none\" stroke=\"black\" d=\"M170.99,-112.53C176.51,-103.96 182.28,-95 187.8,-86.41\"/>\n",
       "<polygon fill=\"black\" stroke=\"black\" points=\"191.21,-88.58 193.68,-78.28 185.33,-84.8 191.21,-88.58\"/>\n",
       "<text text-anchor=\"middle\" x=\"198.98\" y=\"-97.04\" font-family=\"Helvetica,sans-Serif\" font-size=\"14.00\">False</text>\n",
       "</g>\n",
       "</g>\n",
       "</svg>\n"
      ],
      "text/plain": [
       "<graphviz.sources.Source at 0x7fe24d827a90>"
      ]
     },
     "execution_count": 13,
     "metadata": {},
     "output_type": "execute_result"
    }
   ],
   "source": [
    "graph"
   ]
  },
  {
   "cell_type": "code",
   "execution_count": null,
   "id": "5834a42a",
   "metadata": {},
   "outputs": [],
   "source": []
  }
 ],
 "metadata": {
  "kernelspec": {
   "display_name": "Python 3 (ipykernel)",
   "language": "python",
   "name": "python3"
  },
  "language_info": {
   "codemirror_mode": {
    "name": "ipython",
    "version": 3
   },
   "file_extension": ".py",
   "mimetype": "text/x-python",
   "name": "python",
   "nbconvert_exporter": "python",
   "pygments_lexer": "ipython3",
   "version": "3.10.13"
  }
 },
 "nbformat": 4,
 "nbformat_minor": 5
}
